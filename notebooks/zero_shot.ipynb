{
 "cells": [
  {
   "cell_type": "code",
   "execution_count": 1,
   "metadata": {},
   "outputs": [],
   "source": [
    "import pandas as pd\n",
    "import numpy as np\n",
    "import os\n",
    "\n",
    "%matplotlib inline\n",
    "import matplotlib.pyplot as plt\n",
    "\n",
    "from utils import *\n",
    "\n",
    "%load_ext autoreload\n",
    "%autoreload 2\n",
    "\n",
    "RESULTS_DIR = \"../results/zero_shot/gpt2\""
   ]
  },
  {
   "cell_type": "code",
   "execution_count": null,
   "metadata": {},
   "outputs": [],
   "source": [
    "def load_results(dataset):\n",
    "    results = {}\n",
    "    for split in [\"train\",\"test\"]:\n",
    "        results[f\"{split}_logprobs\"] = np.load(os.path.join(RESULTS_DIR,dataset,f\"{split}_logprobs.npy\"))\n",
    "        results[f\"{split}_predictions\"] = np.argmax(results[f\"{split}_logprobs\"],axis=1)\n",
    "        results[f\"{split}_labels\"] = np.load(os.path.join(RESULTS_DIR,dataset,f\"{split}_labels.npy\"))\n",
    "    return results\n",
    "\n",
    "\n",
    "config = read_config(RESULTS_DIR)\n",
    "results = {}\n",
    "for dataset in config[\"datasets\"]:\n",
    "    results[dataset] = load_results(dataset)\n",
    "\n"
   ]
  }
 ],
 "metadata": {
  "kernelspec": {
   "display_name": "reestimation",
   "language": "python",
   "name": "python3"
  },
  "language_info": {
   "codemirror_mode": {
    "name": "ipython",
    "version": 3
   },
   "file_extension": ".py",
   "mimetype": "text/x-python",
   "name": "python",
   "nbconvert_exporter": "python",
   "pygments_lexer": "ipython3",
   "version": "3.10.11"
  },
  "orig_nbformat": 4
 },
 "nbformat": 4,
 "nbformat_minor": 2
}
